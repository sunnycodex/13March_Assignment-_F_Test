{
 "cells": [
  {
   "cell_type": "code",
   "execution_count": 1,
   "id": "bef59a3b-6787-4d24-8a6c-be1c695bad03",
   "metadata": {},
   "outputs": [],
   "source": [
    "#1\n",
    "import numpy as np\n",
    "from scipy.stats import f\n",
    "\n",
    "def variance_ratio_test(array1, array2):\n",
    "    # Calculate the variances\n",
    "    var1 = np.var(array1, ddof=1)\n",
    "    var2 = np.var(array2, ddof=1)\n",
    "\n",
    "    # Calculate the F-value\n",
    "    F = var1 / var2\n",
    "\n",
    "    # Calculate the degrees of freedom for each array\n",
    "    df1 = len(array1) - 1\n",
    "    df2 = len(array2) - 1\n",
    "\n",
    "    # Calculate the p-value\n",
    "    p_value = f.sf(F, df1, df2)\n",
    "\n",
    "    return F, p_value\n"
   ]
  },
  {
   "cell_type": "code",
   "execution_count": 2,
   "id": "a8040963-ee91-4bbe-be35-4e5a526fbf9c",
   "metadata": {},
   "outputs": [],
   "source": [
    "#2\n",
    "import scipy.stats as st\n",
    "\n",
    "def crit_value(alpha, dfn, dfd):\n",
    "    lower_critical= st.f.ppf(alpha/2,dfn, dfd)\n",
    "    \n",
    "    uper_critical=st.f.ppf(1-alpha/2, dfn, dfd)\n",
    "    \n",
    "    return lower_critical, uper_critical"
   ]
  },
  {
   "cell_type": "code",
   "execution_count": 1,
   "id": "4cc56fa9-71d5-42ea-bfc5-e77a362205dc",
   "metadata": {},
   "outputs": [
    {
     "name": "stdout",
     "output_type": "stream",
     "text": [
      "F-value: 0.4217313417163961\n",
      "Degrees of freedom: 99, 99\n",
      "p-value: 0.9999878249242806\n"
     ]
    }
   ],
   "source": [
    "#3\n",
    "import numpy as np\n",
    "from scipy.stats import f\n",
    "\n",
    "# Function to perform F-test\n",
    "def f_test(array1, array2):\n",
    "    var1 = np.var(array1, ddof=1)\n",
    "    var2 = np.var(array2, ddof=1)\n",
    "    F = var1 / var2\n",
    "    df1 = len(array1) - 1\n",
    "    df2 = len(array2) - 1\n",
    "    p_value = f.sf(F, df1, df2)\n",
    "    return F, df1, df2, p_value\n",
    "\n",
    "# Parameters for the normal distributions\n",
    "mean1, mean2 = 0, 0\n",
    "std_dev1, std_dev2 = 1, 1.5\n",
    "size = 100\n",
    "\n",
    "# Generate the random samples\n",
    "np.random.seed(0)  # for reproducibility\n",
    "sample1 = np.random.normal(mean1, std_dev1, size)\n",
    "sample2 = np.random.normal(mean2, std_dev2, size)\n",
    "\n",
    "# Perform the F-test\n",
    "F_value, dfn, dfd, p_value = f_test(sample1, sample2)\n",
    "\n",
    "print(f'F-value: {F_value}')\n",
    "print(f'Degrees of freedom: {dfn}, {dfd}')\n",
    "print(f'p-value: {p_value}')\n"
   ]
  },
  {
   "cell_type": "code",
   "execution_count": 25,
   "id": "e930273e-3fdf-4b86-83aa-d7553937835b",
   "metadata": {},
   "outputs": [
    {
     "name": "stdout",
     "output_type": "stream",
     "text": [
      "F-value =  0.6666666666666666\n",
      "Critical_value = 2.8179304699530863\n",
      "We faild to reject the null hypothsis\n",
      "variances are not significantly different\n"
     ]
    }
   ],
   "source": [
    "#4\n",
    "n=12\n",
    "df1=n-1\n",
    "df2=n-1\n",
    "var1= 10\n",
    "var2= 15\n",
    "f=var1/var2\n",
    "significant_value= 0.05\n",
    "critical_value = st.f.ppf(q=1-significant_value ,dfn=df1, dfd=df2)\n",
    "print(\"F-value = \",f)\n",
    "print(\"Critical_value =\", critical_value)\n",
    "\n",
    "if  f > critical_value:\n",
    "    print(\"Reject the null hypothesis \")\n",
    "else:\n",
    "    print(\"We faild to reject the null hypothsis\")\n",
    "    \n",
    "print(\"variances are not significantly different\")"
   ]
  },
  {
   "cell_type": "code",
   "execution_count": 3,
   "id": "38771c14-06ba-42ee-9c60-97d8a62554f8",
   "metadata": {},
   "outputs": [
    {
     "name": "stdout",
     "output_type": "stream",
     "text": [
      "Fail to reject the null hypothesis\n"
     ]
    }
   ],
   "source": [
    "#5\n",
    "import scipy.stats as stats\n",
    "\n",
    "claimed_variance = 0.005\n",
    "sample_variance = 0.006\n",
    "n = 25\n",
    "alpha = 0.01\n",
    "\n",
    "F_value = sample_variance / claimed_variance\n",
    "\n",
    "\n",
    "dfn = n - 1\n",
    "\n",
    "# Calculate critical values for two-tailed test\n",
    "lower_critical, upper_critical = stats.f.ppf(alpha / 2, dfn, dfn), stats.f.ppf(1 - alpha / 2, dfn, dfn)\n",
    "\n",
    "if lower_critical < F_value < upper_critical:\n",
    "    print('Fail to reject the null hypothesis')\n",
    "else:\n",
    "    print('Reject the null hypothesis')\n"
   ]
  },
  {
   "cell_type": "code",
   "execution_count": 14,
   "id": "df749e70-b4f9-4ca7-afa4-3882d7776648",
   "metadata": {},
   "outputs": [],
   "source": [
    "#6\n",
    "def f_distribution_stats(dof1, dof2):\n",
    "   \n",
    "    # Check if degrees of freedom are valid\n",
    "    if dof1 <= 0 or dof2 <= 0:\n",
    "        return \"Degrees of freedom must be greater than 0\"\n",
    "\n",
    "    # Calculate mean and variance\n",
    "    if dof2 > 2:\n",
    "        mean = dof2 / (dof2 - 2)  # Calculate the mean using the formula E(X) = d2 / (d2 - 2)\n",
    "    else:\n",
    "        mean = \"Mean is undefined when dof2 <= 2\"\n",
    "\n",
    "    if dof2 > 4:\n",
    "        variance = (2 * dof2**2 * (dof1 + dof2 - 2)) / (dof1 * (dof2 - 2)**2 * (dof2 - 4)) # Calculate the variance using the formula Var(X) = (2 * d2^2 * (d1 + d2 - 2)) / (d1 * (d2 - 2)^2 * (d2 - 4))\n",
    "    else:\n",
    "        variance = \"Variance is undefined when dof2 <= 4\"\n",
    "\n",
    "    return (mean, variance) # Return the mean and variance as a tuple\n"
   ]
  },
  {
   "cell_type": "markdown",
   "id": "cb2443e4-05c5-4bab-915c-942053bf16ea",
   "metadata": {},
   "source": [
    "#7\n",
    "\n",
    "\n",
    "First, I would state the null and alternative hypotheses. The null hypothesis assumes that the variances of the two populations are equal, and the alternative hypothesis states that they are not equal. That is:\n",
    "\n",
    "  H0: σ12 = σ22\n",
    "\n",
    "  H1: σ12 ≠ σ22\n",
    "\n",
    "Next, I would calculate the F-value using the formula:\n",
    "\n",
    "  F = s12 / s22\n",
    "\n",
    "  where s12 and s22 are the sample variances. Since s12 = 25 and s22 = 20, I would get:\n",
    "\n",
    "  F = 25 / 20 = 1.25\n",
    "\n",
    "Then, I would find the degrees of freedom for the numerator and denominator using the formula:\n",
    "\n",
    "  df1 = n1 - 1\n",
    "\n",
    "  df2 = n2 - 1\n",
    "\n",
    "where n1 and n2 are the sample sizes. Since n1 = 10 and n2 = 15, I would get:\n",
    "\n",
    "df1 = 10 - 1 = 9\n",
    "\n",
    "df2 = 15 - 1 = 14\n",
    "\n",
    "After that, I would look up the F-table value for the given degrees of freedom and significance level. . The alpha is 0.10, . The F-table value for df1 = 9, df2 = 14, and alpha = 0.05 is 2.12\n",
    "\n",
    "Finally, I would compare the calculated F-value with the F-table value and make a decision about the null hypothesis. Since the F-value (1.25) is less than the F-table value (2.12), I would fail to reject the null hypothesis. This means that there is not enough evidence to conclude that the variances of the two populations are significantly different."
   ]
  },
  {
   "cell_type": "code",
   "execution_count": 12,
   "id": "3b6b66d3-5973-4278-983c-d94f6ba9175a",
   "metadata": {},
   "outputs": [
    {
     "name": "stdout",
     "output_type": "stream",
     "text": [
      "F-test =  1.496767651159843\n",
      "Critical_value =  4.950288068694318\n",
      "Failed to rejet the null hypothesis\n",
      " This means that there is enough evidence to conclude that the variances of the waiting time of two resturent are significantly different.\n"
     ]
    }
   ],
   "source": [
    "#8\n",
    "import numpy as np\n",
    "import scipy.stats as st\n",
    "a=[24,25,28,23,22,20,27]\n",
    "b=[31,33,35,30,32,36]\n",
    "\n",
    "dof1=len(a)-1\n",
    "dof2=len(b)-1\n",
    "alpha= 0.05\n",
    "f_test=np.var(a)/np.var(b)\n",
    "print(\"F-test = \",f_test)\n",
    "critical_value=st.f.ppf(q=1-alpha,dfn=dof1,dfd=dof2)\n",
    "print(\"Critical_value = \",critical_value)\n",
    "\n",
    "if f_test> critical_value:\n",
    "    print(\"Reject the null hypothesis\")\n",
    "    \n",
    "else:\n",
    "    print(\"Failed to rejet the null hypothesis\")\n",
    "\n",
    "print(\" This means that there is enough evidence to conclude that the variances of the waiting time of two resturent are significantly different.\")"
   ]
  },
  {
   "cell_type": "code",
   "execution_count": 18,
   "id": "42783dec-07eb-4be0-b202-64073481f92b",
   "metadata": {},
   "outputs": [
    {
     "name": "stdout",
     "output_type": "stream",
     "text": [
      "Reject the null hypothesis\n",
      "This means that there is not enough evidence to conclude that the variances are significantly different\n"
     ]
    }
   ],
   "source": [
    "#9\n",
    "a=[80,85,90,92,87,83]\n",
    "b=[75,78,82,79,81,84]\n",
    "significant =0.01\n",
    "dof1=len(a)-1\n",
    "dof2=len(b)-1\n",
    "ftest=np.var(a)/np.var(b)\n",
    "critical = st.f.ppf(q=1-significant,dfn=dof1,dfd=dof2)\n",
    "if ftest>significant:\n",
    "    print(\"Reject the null hypothesis\")\n",
    "else:\n",
    "    print(\"Failed to reject the null hypothesis \")\n",
    "print(\"This means that there is not enough evidence to conclude that the variances are significantly different\")"
   ]
  },
  {
   "cell_type": "code",
   "execution_count": null,
   "id": "ad3c3a19-e683-4b58-a4e6-2ed61bac115c",
   "metadata": {},
   "outputs": [],
   "source": []
  }
 ],
 "metadata": {
  "kernelspec": {
   "display_name": "Python 3 (ipykernel)",
   "language": "python",
   "name": "python3"
  },
  "language_info": {
   "codemirror_mode": {
    "name": "ipython",
    "version": 3
   },
   "file_extension": ".py",
   "mimetype": "text/x-python",
   "name": "python",
   "nbconvert_exporter": "python",
   "pygments_lexer": "ipython3",
   "version": "3.10.8"
  }
 },
 "nbformat": 4,
 "nbformat_minor": 5
}
